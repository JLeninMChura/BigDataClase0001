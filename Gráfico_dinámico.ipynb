{
  "nbformat": 4,
  "nbformat_minor": 0,
  "metadata": {
    "colab": {
      "provenance": [],
      "authorship_tag": "ABX9TyOBNVqOyjzNW5+Oab377M1G",
      "include_colab_link": true
    },
    "kernelspec": {
      "name": "python3",
      "display_name": "Python 3"
    },
    "language_info": {
      "name": "python"
    }
  },
  "cells": [
    {
      "cell_type": "markdown",
      "metadata": {
        "id": "view-in-github",
        "colab_type": "text"
      },
      "source": [
        "<a href=\"https://colab.research.google.com/github/JLeninMChura/BigDataClase0001/blob/main/Gr%C3%A1fico_din%C3%A1mico.ipynb\" target=\"_parent\"><img src=\"https://colab.research.google.com/assets/colab-badge.svg\" alt=\"Open In Colab\"/></a>"
      ]
    },
    {
      "cell_type": "markdown",
      "source": [
        "# SESION 02 09/04/2024"
      ],
      "metadata": {
        "id": "snwl_-BVQFkH"
      }
    },
    {
      "cell_type": "code",
      "execution_count": null,
      "metadata": {
        "id": "OBD54y3DQD2d"
      },
      "outputs": [],
      "source": [
        "# SESION 02 09/04/2024"
      ]
    },
    {
      "cell_type": "code",
      "source": [
        "!pip install bar-chart-race"
      ],
      "metadata": {
        "colab": {
          "base_uri": "https://localhost:8080/"
        },
        "id": "cqY-zUseQ7Gt",
        "outputId": "4ba7fa3e-be4b-4592-c81e-7b022bd48e50"
      },
      "execution_count": 3,
      "outputs": [
        {
          "output_type": "stream",
          "name": "stdout",
          "text": [
            "Collecting bar-chart-race\n",
            "  Downloading bar_chart_race-0.1.0-py3-none-any.whl (156 kB)\n",
            "\u001b[?25l     \u001b[90m━━━━━━━━━━━━━━━━━━━━━━━━━━━━━━━━━━━━━━━━\u001b[0m \u001b[32m0.0/156.8 kB\u001b[0m \u001b[31m?\u001b[0m eta \u001b[36m-:--:--\u001b[0m\r\u001b[2K     \u001b[91m━━━━━━━━━━━━━━━━━━━━━━━━━━━━━━━━━━━━━━━\u001b[0m\u001b[90m╺\u001b[0m \u001b[32m153.6/156.8 kB\u001b[0m \u001b[31m4.9 MB/s\u001b[0m eta \u001b[36m0:00:01\u001b[0m\r\u001b[2K     \u001b[90m━━━━━━━━━━━━━━━━━━━━━━━━━━━━━━━━━━━━━━━━\u001b[0m \u001b[32m156.8/156.8 kB\u001b[0m \u001b[31m4.0 MB/s\u001b[0m eta \u001b[36m0:00:00\u001b[0m\n",
            "\u001b[?25hRequirement already satisfied: pandas>=0.24 in /usr/local/lib/python3.10/dist-packages (from bar-chart-race) (2.0.3)\n",
            "Requirement already satisfied: matplotlib>=3.1 in /usr/local/lib/python3.10/dist-packages (from bar-chart-race) (3.7.1)\n",
            "Requirement already satisfied: contourpy>=1.0.1 in /usr/local/lib/python3.10/dist-packages (from matplotlib>=3.1->bar-chart-race) (1.2.1)\n",
            "Requirement already satisfied: cycler>=0.10 in /usr/local/lib/python3.10/dist-packages (from matplotlib>=3.1->bar-chart-race) (0.12.1)\n",
            "Requirement already satisfied: fonttools>=4.22.0 in /usr/local/lib/python3.10/dist-packages (from matplotlib>=3.1->bar-chart-race) (4.50.0)\n",
            "Requirement already satisfied: kiwisolver>=1.0.1 in /usr/local/lib/python3.10/dist-packages (from matplotlib>=3.1->bar-chart-race) (1.4.5)\n",
            "Requirement already satisfied: numpy>=1.20 in /usr/local/lib/python3.10/dist-packages (from matplotlib>=3.1->bar-chart-race) (1.25.2)\n",
            "Requirement already satisfied: packaging>=20.0 in /usr/local/lib/python3.10/dist-packages (from matplotlib>=3.1->bar-chart-race) (24.0)\n",
            "Requirement already satisfied: pillow>=6.2.0 in /usr/local/lib/python3.10/dist-packages (from matplotlib>=3.1->bar-chart-race) (9.4.0)\n",
            "Requirement already satisfied: pyparsing>=2.3.1 in /usr/local/lib/python3.10/dist-packages (from matplotlib>=3.1->bar-chart-race) (3.1.2)\n",
            "Requirement already satisfied: python-dateutil>=2.7 in /usr/local/lib/python3.10/dist-packages (from matplotlib>=3.1->bar-chart-race) (2.8.2)\n",
            "Requirement already satisfied: pytz>=2020.1 in /usr/local/lib/python3.10/dist-packages (from pandas>=0.24->bar-chart-race) (2023.4)\n",
            "Requirement already satisfied: tzdata>=2022.1 in /usr/local/lib/python3.10/dist-packages (from pandas>=0.24->bar-chart-race) (2024.1)\n",
            "Requirement already satisfied: six>=1.5 in /usr/local/lib/python3.10/dist-packages (from python-dateutil>=2.7->matplotlib>=3.1->bar-chart-race) (1.16.0)\n",
            "Installing collected packages: bar-chart-race\n",
            "Successfully installed bar-chart-race-0.1.0\n"
          ]
        }
      ]
    },
    {
      "cell_type": "code",
      "source": [
        "import pandas as pd\n",
        "import matplotlib.pyplot as plt\n",
        "import bar_chart_race as bcarrera"
      ],
      "metadata": {
        "id": "BbFyPreeQHnN"
      },
      "execution_count": 5,
      "outputs": []
    },
    {
      "cell_type": "code",
      "source": [
        "datos = pd.read_csv(\"https://docs.google.com/spreadsheets/d/e/2PACX-1vT-oEXMt71SBozf7gFbOhRJcKFKdXwpeUGlKE8JyJUlKM_Gf_N1NIfPTWLwN2D-N9GhPRf2uaE4dmEw/pub?gid=1178076812&single=true&output=csv\",index_col=\"Fecha\",)\n",
        "\n",
        "print(datos)"
      ],
      "metadata": {
        "colab": {
          "base_uri": "https://localhost:8080/"
        },
        "id": "qWGcKM6dQKIV",
        "outputId": "7f15e8f5-d815-43e6-b8fd-f50e7ad754ba"
      },
      "execution_count": 26,
      "outputs": [
        {
          "output_type": "stream",
          "name": "stdout",
          "text": [
            "            Peru  Bolivia  Brasil  Argentina  Chile  Mexico  Alemania\n",
            "Fecha                                                                \n",
            "20/03/2020     1        0       0          0      0       0         0\n",
            "21/03/2020     3        9       7          5      2      14         1\n",
            "22/03/2020    25       11      17          9      5      43         3\n",
            "23/03/2020    28       19      23         17     10      55         5\n",
            "24/03/2020    37       26      33         27     14      85         6\n",
            "25/03/2020    27       37      37         39     16     110         7\n",
            "26/03/2020    57       40      40         45     20     132         8\n",
            "27/03/2020    53       49      46         48     21     158        10\n",
            "28/03/2020    51       54      58         53     26     185        12\n",
            "29/03/2020    63       65      60         54     30     192        13\n",
            "30/03/2020    70       74      71         59     31     213        15\n",
            "31/03/2020    76       76      83         71     32     227        17\n",
            "01/04/2020    81       77      90         83     36     255        19\n",
            "02/04/2020    96       91      94         91     40     277        21\n",
            "03/04/2020   104      100      95         98     43     290        22\n",
            "04/04/2020   120      110     105        103     48     307        24\n",
            "05/04/2020   130      112     115        104     52     309        25\n",
            "06/04/2020   125      118     126        113     56     331        27\n",
            "07/04/2020   119      122     138        116     58     350        29\n",
            "08/04/2020   129      123     139        124     63     379        30\n",
            "09/04/2020   129      137     143        125     64     389        32\n",
            "10/04/2020   153      146     149        127     68     398        33\n",
            "11/04/2020   165      150     156        130     70     415        34\n",
            "12/04/2020   155      165     157        131     75     419        35\n",
            "13/04/2020   179      176     169        140     76     429        37\n",
            "14/04/2020   193      184     183        147     79     444        39\n",
            "15/04/2020   190      196     190        154     80     471       500\n",
            "16/04/2020   202      208     203        159     81     481       550\n",
            "17/04/2020   216      218     210        168     85     483       400\n",
            "18/04/2020   221      230     220        174     90     492       300\n",
            "19/04/2020   240      238     230        181     94     510       100\n",
            "20/04/2020   252      249     243        188     97     513        49\n"
          ]
        }
      ]
    },
    {
      "cell_type": "code",
      "source": [
        "import bar_chart_race as bcr\n",
        "bcr.bar_chart_race(df=datos,filename=\"mivideo_grafico.mp4\", title=\"Número de casos por países\")"
      ],
      "metadata": {
        "colab": {
          "base_uri": "https://localhost:8080/"
        },
        "id": "QmyitCOZREGd",
        "outputId": "a8b6a49a-ca61-4bc8-e433-3f1df8c44983"
      },
      "execution_count": 29,
      "outputs": [
        {
          "output_type": "stream",
          "name": "stderr",
          "text": [
            "/usr/local/lib/python3.10/dist-packages/bar_chart_race/_make_chart.py:286: UserWarning: FixedFormatter should only be used together with FixedLocator\n",
            "  ax.set_yticklabels(self.df_values.columns)\n",
            "/usr/local/lib/python3.10/dist-packages/bar_chart_race/_make_chart.py:287: UserWarning: FixedFormatter should only be used together with FixedLocator\n",
            "  ax.set_xticklabels([max_val] * len(ax.get_xticks()))\n"
          ]
        }
      ]
    },
    {
      "cell_type": "code",
      "source": [],
      "metadata": {
        "id": "VCmRN4OnRcFi"
      },
      "execution_count": null,
      "outputs": []
    }
  ]
}