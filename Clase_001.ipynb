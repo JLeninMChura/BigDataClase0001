{
  "nbformat": 4,
  "nbformat_minor": 0,
  "metadata": {
    "colab": {
      "provenance": [],
      "toc_visible": true,
      "authorship_tag": "ABX9TyMob71wICuVy1Ue5jHE7As4",
      "include_colab_link": true
    },
    "kernelspec": {
      "name": "python3",
      "display_name": "Python 3"
    },
    "language_info": {
      "name": "python"
    }
  },
  "cells": [
    {
      "cell_type": "markdown",
      "metadata": {
        "id": "view-in-github",
        "colab_type": "text"
      },
      "source": [
        "<a href=\"https://colab.research.google.com/github/JLeninMChura/BigDataClase0001/blob/main/Clase_001.ipynb\" target=\"_parent\"><img src=\"https://colab.research.google.com/assets/colab-badge.svg\" alt=\"Open In Colab\"/></a>"
      ]
    },
    {
      "cell_type": "markdown",
      "source": [
        "#Ejercicio 1 - Carga de un archivo CSV desde Drive"
      ],
      "metadata": {
        "id": "Iw3ay-BqtcUG"
      }
    },
    {
      "cell_type": "code",
      "source": [
        "import pandas as pd\n",
        "import matplotlib.pyplot as plt"
      ],
      "metadata": {
        "id": "C17aWASRrXgZ"
      },
      "execution_count": 70,
      "outputs": []
    },
    {
      "cell_type": "code",
      "source": [
        "datos = pd.read_csv(\"https://docs.google.com/spreadsheets/d/e/2PACX-1vRAw21hrrSAlaHSVZ5gH8N8GjfYrgJM5HMPxpjhl63P-dDQa7o4I1NpV_vKGxjNrHizQ4YN1mE-Pj7W/pub?gid=1804714029&single=true&output=csv\")\n",
        "\n",
        "print(datos)"
      ],
      "metadata": {
        "colab": {
          "base_uri": "https://localhost:8080/"
        },
        "id": "bQCROgk6tyUu",
        "outputId": "b8d6f6b5-1dc6-4ef2-f46b-2dc4ee4767c3"
      },
      "execution_count": 71,
      "outputs": [
        {
          "output_type": "stream",
          "name": "stdout",
          "text": [
            "       nombre  edad    ciudad  ingresos\n",
            "0        Juan    30      Lima      2500\n",
            "1       María    28  Arequipa      3800\n",
            "2        Luis    35     Cusco      4800\n",
            "3         Ana    22  Trujillo      2000\n",
            "4       Pedro    28  Arequipa      3200\n",
            "5      Leonel    64   Juliaca      4980\n",
            "6       Laura    31      Lima      4200\n",
            "7      Carlos    25     Cusco      1800\n",
            "8       Sofía    29  Trujillo      2900\n",
            "9      Andrés    27      Lima      2600\n",
            "10   Gabriela    33  Arequipa      4000\n",
            "11    Micaela    21   Juliaca      5000\n",
            "12      Diego    24     Cusco      3200\n",
            "13  Valentina    26  Trujillo      3500\n",
            "14     Lorena    30      Lima      3800\n",
            "15     Javier    32  Arequipa      5000\n",
            "16    Daniela    29      Lima      2700\n",
            "17     Manuel    31  Trujillo      2700\n",
            "18   Fernanda    28     Cusco      2100\n",
            "19    Ricardo    35      Lima      4400\n",
            "20      Lucía    23  Trujillo      1500\n",
            "21       José    34  Arequipa      4200\n",
            "22      Willy    55      Puno      1300\n"
          ]
        }
      ]
    },
    {
      "cell_type": "code",
      "source": [
        "#Obtenemos la suma total de la comuna ingresos\n",
        "suma_ingresos = datos['ingresos'].sum()\n",
        "print(\"La suma de la columna ingresos es \",suma_ingresos)"
      ],
      "metadata": {
        "colab": {
          "base_uri": "https://localhost:8080/"
        },
        "id": "zz6YrpdxwjDA",
        "outputId": "e95427bd-54cc-4c3d-fc93-3382886caddf"
      },
      "execution_count": 26,
      "outputs": [
        {
          "output_type": "stream",
          "name": "stdout",
          "text": [
            "La suma de la columna ingresos es  76180\n"
          ]
        }
      ]
    },
    {
      "cell_type": "code",
      "source": [
        "#obtenemos le promedio de edad de los trabajaddores\n",
        "promedio_edad=datos['edad'].mean()\n",
        "print(\"El promedio de edad de los trabajadores es\",int(promedio_edad))"
      ],
      "metadata": {
        "colab": {
          "base_uri": "https://localhost:8080/"
        },
        "id": "SwJ3hNocxeSJ",
        "outputId": "2b673a38-49b8-46db-ade1-ee60443f3967"
      },
      "execution_count": 27,
      "outputs": [
        {
          "output_type": "stream",
          "name": "stdout",
          "text": [
            "El promedio de edad de los trabajadores es 31\n"
          ]
        }
      ]
    },
    {
      "cell_type": "code",
      "source": [
        "#Obtemos las personas que trabajan en arequipa\n",
        "personas_arequipa = datos.loc[datos[\"ciudad\"] == \"Arequipa\"]\n",
        "print(personas_arequipa)"
      ],
      "metadata": {
        "colab": {
          "base_uri": "https://localhost:8080/"
        },
        "id": "OHfCvQc_yB0A",
        "outputId": "61622c94-722e-47ff-efc6-ac47b8103959"
      },
      "execution_count": 31,
      "outputs": [
        {
          "output_type": "stream",
          "name": "stdout",
          "text": [
            "      nombre  edad    ciudad  ingresos\n",
            "1      María    28  Arequipa      3800\n",
            "4      Pedro    28  Arequipa      3200\n",
            "10  Gabriela    33  Arequipa      4000\n",
            "15    Javier    32  Arequipa      5000\n",
            "21      José    34  Arequipa      4200\n"
          ]
        }
      ]
    },
    {
      "cell_type": "code",
      "source": [
        "#Promedio de ingresos por ciudad\n",
        "ciudades_ingresos = datos.groupby(\"ciudad\")\n",
        "promedio_ingresos_ciudad = ciudades_ingresos[\"ingresos\"].mean()\n",
        "print(promedio_ingresos_ciudad)"
      ],
      "metadata": {
        "colab": {
          "base_uri": "https://localhost:8080/"
        },
        "id": "UVLoOOHw1Mbn",
        "outputId": "5c7940c2-c5c1-4ac1-a6fa-6106b0ca5277"
      },
      "execution_count": 35,
      "outputs": [
        {
          "output_type": "stream",
          "name": "stdout",
          "text": [
            "ciudad\n",
            "Arequipa    4040.000000\n",
            "Cusco       2975.000000\n",
            "Juliaca     4990.000000\n",
            "Lima        3366.666667\n",
            "Puno        1300.000000\n",
            "Trujillo    2520.000000\n",
            "Name: ingresos, dtype: float64\n"
          ]
        }
      ]
    },
    {
      "cell_type": "code",
      "source": [
        "#Persona mas joven y persona mas mayor\n",
        "datos_ordenados = datos.sort_values(\"edad\")\n",
        "persona_mas_joven = datos_ordenados.iloc[0]\n",
        "persona_mas_mayor = datos_ordenados.iloc[-1]\n",
        "print(\"Persona más joven:\")\n",
        "print(persona_mas_joven)\n",
        "\n",
        "print(\"Persona más mayor:\")\n",
        "print(persona_mas_mayor)"
      ],
      "metadata": {
        "colab": {
          "base_uri": "https://localhost:8080/"
        },
        "id": "uLrrc79E26jt",
        "outputId": "0bacfdb5-f759-4535-b2a2-217ce7fd3e99"
      },
      "execution_count": 37,
      "outputs": [
        {
          "output_type": "stream",
          "name": "stdout",
          "text": [
            "Persona más joven:\n",
            "nombre      Micaela\n",
            "edad             21\n",
            "ciudad      Juliaca\n",
            "ingresos       5000\n",
            "Name: 11, dtype: object\n",
            "Persona más mayor:\n",
            "nombre       Leonel\n",
            "edad             64\n",
            "ciudad      Juliaca\n",
            "ingresos       4980\n",
            "Name: 5, dtype: object\n"
          ]
        }
      ]
    },
    {
      "cell_type": "code",
      "source": [
        "#persona mas Mayor\n",
        "joven=datos.loc[datos['edad']==datos['edad'].max()].values[0]\n",
        "print(joven);"
      ],
      "metadata": {
        "colab": {
          "base_uri": "https://localhost:8080/"
        },
        "id": "kD8U3cxE4Ff6",
        "outputId": "ec997a96-a837-447a-9dc2-e6b3ecb61767"
      },
      "execution_count": 42,
      "outputs": [
        {
          "output_type": "stream",
          "name": "stdout",
          "text": [
            "['Leonel' 64 'Juliaca' 4980]\n"
          ]
        }
      ]
    },
    {
      "cell_type": "code",
      "source": [
        "#numero de personas que trabajan por ciudades\n",
        "personas_ciudades=datos.groupby(\"ciudad\")[\"nombre\"].count()\n",
        "print(personas_ciudades)"
      ],
      "metadata": {
        "colab": {
          "base_uri": "https://localhost:8080/"
        },
        "id": "qu-nhmRs44KH",
        "outputId": "0a778b3b-b8f7-4477-f223-9c1c8e093755"
      },
      "execution_count": 48,
      "outputs": [
        {
          "output_type": "stream",
          "name": "stdout",
          "text": [
            "ciudad\n",
            "Arequipa    5\n",
            "Cusco       4\n",
            "Juliaca     2\n",
            "Lima        6\n",
            "Puno        1\n",
            "Trujillo    5\n",
            "Name: nombre, dtype: int64\n"
          ]
        }
      ]
    },
    {
      "cell_type": "code",
      "source": [
        "#listado de personas de mayor a menor\n",
        "personas_ciudad_ordenadas = personas_ciudad.sort_values(\"edad\")\n",
        "\n",
        "print(datos_ordenados)"
      ],
      "metadata": {
        "colab": {
          "base_uri": "https://localhost:8080/"
        },
        "id": "u5GrsT0k6SKh",
        "outputId": "6e86972e-7fae-46ca-e668-823216bf639a"
      },
      "execution_count": 55,
      "outputs": [
        {
          "output_type": "stream",
          "name": "stdout",
          "text": [
            "       nombre  edad    ciudad  ingresos\n",
            "11    Micaela    21   Juliaca      5000\n",
            "3         Ana    22  Trujillo      2000\n",
            "20      Lucía    23  Trujillo      1500\n",
            "12      Diego    24     Cusco      3200\n",
            "7      Carlos    25     Cusco      1800\n",
            "13  Valentina    26  Trujillo      3500\n",
            "9      Andrés    27      Lima      2600\n",
            "1       María    28  Arequipa      3800\n",
            "4       Pedro    28  Arequipa      3200\n",
            "18   Fernanda    28     Cusco      2100\n",
            "16    Daniela    29      Lima      2700\n",
            "8       Sofía    29  Trujillo      2900\n",
            "14     Lorena    30      Lima      3800\n",
            "0        Juan    30      Lima      2500\n",
            "6       Laura    31      Lima      4200\n",
            "17     Manuel    31  Trujillo      2700\n",
            "15     Javier    32  Arequipa      5000\n",
            "10   Gabriela    33  Arequipa      4000\n",
            "21       José    34  Arequipa      4200\n",
            "19    Ricardo    35      Lima      4400\n",
            "2        Luis    35     Cusco      4800\n",
            "22      Willy    55      Puno      1300\n",
            "5      Leonel    64   Juliaca      4980\n"
          ]
        }
      ]
    },
    {
      "cell_type": "code",
      "source": [
        "#Promedio de ingresos de mayores de 30 años\n",
        "\n",
        "mayores_30 = datos.loc[datos[\"edad\"] > 30]\n",
        "promedio_ingresos = mayores_30[\"ingresos\"].mean()\n",
        "print(f\"Promedio de ingresos: {promedio_ingresos}\")"
      ],
      "metadata": {
        "colab": {
          "base_uri": "https://localhost:8080/"
        },
        "id": "9mNZ-2JU7_wX",
        "outputId": "35896a94-a75d-4316-e327-fa9f27f2b6ff"
      },
      "execution_count": 65,
      "outputs": [
        {
          "output_type": "stream",
          "name": "stdout",
          "text": [
            "Promedio de ingresos: 3953.3333333333335\n"
          ]
        }
      ]
    },
    {
      "cell_type": "code",
      "source": [
        "#Ingresos totales por ciudades\n",
        "\n",
        "\n",
        "ingresos_totales_ciudad = datos.groupby(\"ciudad\")[\"ingresos\"].sum()\n",
        "print(ingresos_totales_ciudad)"
      ],
      "metadata": {
        "colab": {
          "base_uri": "https://localhost:8080/"
        },
        "id": "YdST6Gw58fiv",
        "outputId": "04bf07b5-11cb-485b-df0b-af664385891d"
      },
      "execution_count": 63,
      "outputs": [
        {
          "output_type": "stream",
          "name": "stdout",
          "text": [
            "ciudad\n",
            "Arequipa    20200\n",
            "Cusco       11900\n",
            "Juliaca      9980\n",
            "Lima        20200\n",
            "Puno         1300\n",
            "Trujillo    12600\n",
            "Name: ingresos, dtype: int64\n"
          ]
        }
      ]
    },
    {
      "cell_type": "code",
      "source": [
        "#Persona con el ingreso mas alto\n",
        "\n",
        "persona_mayor_ingreso = datos.loc[datos[\"ingresos\"] == datos[\"ingresos\"].max()]\n",
        "print(persona_mayor_ingreso)\n"
      ],
      "metadata": {
        "colab": {
          "base_uri": "https://localhost:8080/"
        },
        "id": "ENF2VyOb8tzv",
        "outputId": "941bf3c4-a470-4ced-c4bb-7f528732322c"
      },
      "execution_count": 64,
      "outputs": [
        {
          "output_type": "stream",
          "name": "stdout",
          "text": [
            "     nombre  edad    ciudad  ingresos\n",
            "11  Micaela    21   Juliaca      5000\n",
            "15   Javier    32  Arequipa      5000\n"
          ]
        }
      ]
    },
    {
      "cell_type": "code",
      "source": [
        "#Crear un histograma de edades\n",
        "\n",
        "edades_histograma = plt.hist(datos[\"edad\"])\n",
        "plt.show()"
      ],
      "metadata": {
        "colab": {
          "base_uri": "https://localhost:8080/",
          "height": 430
        },
        "id": "r9r6CK7I87e2",
        "outputId": "2aed6942-466b-4d3e-8789-6ca697517601"
      },
      "execution_count": 72,
      "outputs": [
        {
          "output_type": "display_data",
          "data": {
            "text/plain": [
              "<Figure size 640x480 with 1 Axes>"
            ],
            "image/png": "[encoded data removed]"
          },
          "metadata": {}
        }
      ]
    },
    {
      "cell_type": "code",
      "source": [
        "#Agrega una columna de impuestos que represente el 10% de los ingresos\n",
        "\n",
        "datos[\"impuestos\"] = datos[\"ingresos\"] * 0.1\n",
        "print(datos)"
      ],
      "metadata": {
        "colab": {
          "base_uri": "https://localhost:8080/"
        },
        "id": "WDlLRANO9igY",
        "outputId": "76db3029-8a5b-4f03-e627-cb5382dd100b"
      },
      "execution_count": 74,
      "outputs": [
        {
          "output_type": "stream",
          "name": "stdout",
          "text": [
            "       nombre  edad    ciudad  ingresos  impuestos\n",
            "0        Juan    30      Lima      2500      250.0\n",
            "1       María    28  Arequipa      3800      380.0\n",
            "2        Luis    35     Cusco      4800      480.0\n",
            "3         Ana    22  Trujillo      2000      200.0\n",
            "4       Pedro    28  Arequipa      3200      320.0\n",
            "5      Leonel    64   Juliaca      4980      498.0\n",
            "6       Laura    31      Lima      4200      420.0\n",
            "7      Carlos    25     Cusco      1800      180.0\n",
            "8       Sofía    29  Trujillo      2900      290.0\n",
            "9      Andrés    27      Lima      2600      260.0\n",
            "10   Gabriela    33  Arequipa      4000      400.0\n",
            "11    Micaela    21   Juliaca      5000      500.0\n",
            "12      Diego    24     Cusco      3200      320.0\n",
            "13  Valentina    26  Trujillo      3500      350.0\n",
            "14     Lorena    30      Lima      3800      380.0\n",
            "15     Javier    32  Arequipa      5000      500.0\n",
            "16    Daniela    29      Lima      2700      270.0\n",
            "17     Manuel    31  Trujillo      2700      270.0\n",
            "18   Fernanda    28     Cusco      2100      210.0\n",
            "19    Ricardo    35      Lima      4400      440.0\n",
            "20      Lucía    23  Trujillo      1500      150.0\n",
            "21       José    34  Arequipa      4200      420.0\n",
            "22      Willy    55      Puno      1300      130.0\n"
          ]
        }
      ]
    },
    {
      "cell_type": "markdown",
      "source": [
        "#Ejercicio 2 - Carga de archivo CSV Desde drive\n"
      ],
      "metadata": {
        "id": "4M1T6jJ1uhUG"
      }
    },
    {
      "cell_type": "code",
      "source": [
        "datitos = pd.read_csv(\"https://docs.google.com/spreadsheets/d/e/2PACX-1vRqgSe0k4O9E2684cwFsEZqq8G03y-D47iaT4nZdTs5q5J-QcTdhgnKefJjf4oa6CfnjiBlthhYNQjq/pub?output=csv\")\n",
        "\n",
        "print(datitos)"
      ],
      "metadata": {
        "colab": {
          "base_uri": "https://localhost:8080/"
        },
        "id": "dipjuyi875xo",
        "outputId": "fac4c5f0-3c32-4869-ce47-0c773b9c5a82"
      },
      "execution_count": 77,
      "outputs": [
        {
          "output_type": "stream",
          "name": "stdout",
          "text": [
            "       nombre  edad     genero    ciudad  ingresos      educacion  \\\n",
            "0        Juan    28  Masculino      Lima      4500  Universitario   \n",
            "1       María    35   Femenino  Arequipa      3500     Secundaria   \n",
            "2        Luis    40  Masculino     Cusco      5200  Universitario   \n",
            "3         Ana    22   Femenino      Lima      2800  Universitario   \n",
            "4      Walter    19  Masculino   Juliaca      3100        Técnico   \n",
            "5       Pedro    30  Masculino  Arequipa      4000        Técnico   \n",
            "6       Laura    27   Femenino      Lima      3200     Secundaria   \n",
            "7      Carlos    29  Masculino     Cusco      4800  Universitario   \n",
            "8       Sofía    25   Femenino      Lima      3000  Universitario   \n",
            "9   Esmeralda    23   Femenino   Juliaca      3200  Universitario   \n",
            "10     Andrés    33  Masculino  Arequipa      4200  Universitario   \n",
            "11   Gabriela    31   Femenino      Lima      3800  Universitario   \n",
            "12      Diego    26  Masculino     Cusco      3600        Técnico   \n",
            "13    Ernesto    42  Masculino   Juliaca      4200        Técnico   \n",
            "\n",
            "    estado_civil  \n",
            "0        Soltero  \n",
            "1         Casado  \n",
            "2         Casado  \n",
            "3        Soltero  \n",
            "4        Soltero  \n",
            "5        Soltero  \n",
            "6         Casado  \n",
            "7   Comprometido  \n",
            "8        Soltero  \n",
            "9        Soltero  \n",
            "10        Casado  \n",
            "11    Divorciado  \n",
            "12  Comprometido  \n",
            "13        Casado  \n"
          ]
        }
      ]
    }
  ]
}