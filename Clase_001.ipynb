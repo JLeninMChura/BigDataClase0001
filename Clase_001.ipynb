{
  "nbformat": 4,
  "nbformat_minor": 0,
  "metadata": {
    "colab": {
      "provenance": [],
      "toc_visible": true,
      "authorship_tag": "ABX9TyM32rvY4zPBCNsUPJNdgFb+",
      "include_colab_link": true
    },
    "kernelspec": {
      "name": "python3",
      "display_name": "Python 3"
    },
    "language_info": {
      "name": "python"
    }
  },
  "cells": [
    {
      "cell_type": "markdown",
      "metadata": {
        "id": "view-in-github",
        "colab_type": "text"
      },
      "source": [
        "<a href=\"https://colab.research.google.com/github/JLeninMChura/BigDataClase0001/blob/main/Clase_001.ipynb\" target=\"_parent\"><img src=\"https://colab.research.google.com/assets/colab-badge.svg\" alt=\"Open In Colab\"/></a>"
      ]
    },
    {
      "cell_type": "markdown",
      "source": [
        "#Ejercicio 1 - Carga de un archivo CSV desde Drive"
      ],
      "metadata": {
        "id": "Iw3ay-BqtcUG"
      }
    },
    {
      "cell_type": "code",
      "source": [
        "import pandas as pd"
      ],
      "metadata": {
        "id": "C17aWASRrXgZ"
      },
      "execution_count": 45,
      "outputs": []
    },
    {
      "cell_type": "code",
      "source": [
        "datos = pd.read_csv(\"https://docs.google.com/spreadsheets/d/e/2PACX-1vRAw21hrrSAlaHSVZ5gH8N8GjfYrgJM5HMPxpjhl63P-dDQa7o4I1NpV_vKGxjNrHizQ4YN1mE-Pj7W/pub?gid=1804714029&single=true&output=csv\")\n",
        "\n",
        "print(datos)"
      ],
      "metadata": {
        "colab": {
          "base_uri": "https://localhost:8080/"
        },
        "id": "bQCROgk6tyUu",
        "outputId": "9630e75e-519d-498e-e11a-c5fc9d8d8bc1"
      },
      "execution_count": 46,
      "outputs": [
        {
          "output_type": "stream",
          "name": "stdout",
          "text": [
            "       nombre  edad    ciudad  ingresos\n",
            "0        Juan    30      Lima      2500\n",
            "1       María    28  Arequipa      3800\n",
            "2        Luis    35     Cusco      4800\n",
            "3         Ana    22  Trujillo      2000\n",
            "4       Pedro    28  Arequipa      3200\n",
            "5      Leonel    64   Juliaca      4980\n",
            "6       Laura    31      Lima      4200\n",
            "7      Carlos    25     Cusco      1800\n",
            "8       Sofía    29  Trujillo      2900\n",
            "9      Andrés    27      Lima      2600\n",
            "10   Gabriela    33  Arequipa      4000\n",
            "11    Micaela    21   Juliaca      5000\n",
            "12      Diego    24     Cusco      3200\n",
            "13  Valentina    26  Trujillo      3500\n",
            "14     Lorena    30      Lima      3800\n",
            "15     Javier    32  Arequipa      5000\n",
            "16    Daniela    29      Lima      2700\n",
            "17     Manuel    31  Trujillo      2700\n",
            "18   Fernanda    28     Cusco      2100\n",
            "19    Ricardo    35      Lima      4400\n",
            "20      Lucía    23  Trujillo      1500\n",
            "21       José    34  Arequipa      4200\n",
            "22      Willy    55      Puno      1300\n"
          ]
        }
      ]
    },
    {
      "cell_type": "code",
      "source": [
        "#Obtenemos la suma total de la comuna ingresos\n",
        "suma_ingresos = datos['ingresos'].sum()\n",
        "print(\"La suma de la columna ingresos es \",suma_ingresos)"
      ],
      "metadata": {
        "colab": {
          "base_uri": "https://localhost:8080/"
        },
        "id": "zz6YrpdxwjDA",
        "outputId": "e95427bd-54cc-4c3d-fc93-3382886caddf"
      },
      "execution_count": 26,
      "outputs": [
        {
          "output_type": "stream",
          "name": "stdout",
          "text": [
            "La suma de la columna ingresos es  76180\n"
          ]
        }
      ]
    },
    {
      "cell_type": "code",
      "source": [
        "#obtenemos le promedio de edad de lso trabajaddores\n",
        "promedio_edad=datos['edad'].mean()\n",
        "print(\"El promedio de edad de los trabajadores es\",int(promedio_edad))"
      ],
      "metadata": {
        "colab": {
          "base_uri": "https://localhost:8080/"
        },
        "id": "SwJ3hNocxeSJ",
        "outputId": "2b673a38-49b8-46db-ade1-ee60443f3967"
      },
      "execution_count": 27,
      "outputs": [
        {
          "output_type": "stream",
          "name": "stdout",
          "text": [
            "El promedio de edad de los trabajadores es 31\n"
          ]
        }
      ]
    },
    {
      "cell_type": "code",
      "source": [
        "#obtemos las personas que trabaja nen arequipa\n",
        "personas_arequipa = datos.loc[datos[\"ciudad\"] == \"Arequipa\"]\n",
        "print(personas_arequipa)"
      ],
      "metadata": {
        "colab": {
          "base_uri": "https://localhost:8080/"
        },
        "id": "OHfCvQc_yB0A",
        "outputId": "61622c94-722e-47ff-efc6-ac47b8103959"
      },
      "execution_count": 31,
      "outputs": [
        {
          "output_type": "stream",
          "name": "stdout",
          "text": [
            "      nombre  edad    ciudad  ingresos\n",
            "1      María    28  Arequipa      3800\n",
            "4      Pedro    28  Arequipa      3200\n",
            "10  Gabriela    33  Arequipa      4000\n",
            "15    Javier    32  Arequipa      5000\n",
            "21      José    34  Arequipa      4200\n"
          ]
        }
      ]
    },
    {
      "cell_type": "code",
      "source": [
        "#promedio de ingresos por ciudad\n",
        "ciudades_ingresos = datos.groupby(\"ciudad\")\n",
        "promedio_ingresos_ciudad = ciudades_ingresos[\"ingresos\"].mean()\n",
        "print(promedio_ingresos_ciudad)"
      ],
      "metadata": {
        "colab": {
          "base_uri": "https://localhost:8080/"
        },
        "id": "UVLoOOHw1Mbn",
        "outputId": "5c7940c2-c5c1-4ac1-a6fa-6106b0ca5277"
      },
      "execution_count": 35,
      "outputs": [
        {
          "output_type": "stream",
          "name": "stdout",
          "text": [
            "ciudad\n",
            "Arequipa    4040.000000\n",
            "Cusco       2975.000000\n",
            "Juliaca     4990.000000\n",
            "Lima        3366.666667\n",
            "Puno        1300.000000\n",
            "Trujillo    2520.000000\n",
            "Name: ingresos, dtype: float64\n"
          ]
        }
      ]
    },
    {
      "cell_type": "code",
      "source": [
        "datos_ordenados = datos.sort_values(\"edad\")\n",
        "persona_mas_joven = datos_ordenados.iloc[0]\n",
        "persona_mas_mayor = datos_ordenados.iloc[-1]\n",
        "print(\"Persona más joven:\")\n",
        "print(persona_mas_joven)\n",
        "\n",
        "print(\"Persona más mayor:\")\n",
        "print(persona_mas_mayor)"
      ],
      "metadata": {
        "colab": {
          "base_uri": "https://localhost:8080/"
        },
        "id": "uLrrc79E26jt",
        "outputId": "0bacfdb5-f759-4535-b2a2-217ce7fd3e99"
      },
      "execution_count": 37,
      "outputs": [
        {
          "output_type": "stream",
          "name": "stdout",
          "text": [
            "Persona más joven:\n",
            "nombre      Micaela\n",
            "edad             21\n",
            "ciudad      Juliaca\n",
            "ingresos       5000\n",
            "Name: 11, dtype: object\n",
            "Persona más mayor:\n",
            "nombre       Leonel\n",
            "edad             64\n",
            "ciudad      Juliaca\n",
            "ingresos       4980\n",
            "Name: 5, dtype: object\n"
          ]
        }
      ]
    },
    {
      "cell_type": "code",
      "source": [
        "joven=datos.loc[datos['edad']==datos['edad'].max()].values[0]\n",
        "print(joven);"
      ],
      "metadata": {
        "colab": {
          "base_uri": "https://localhost:8080/"
        },
        "id": "kD8U3cxE4Ff6",
        "outputId": "ec997a96-a837-447a-9dc2-e6b3ecb61767"
      },
      "execution_count": 42,
      "outputs": [
        {
          "output_type": "stream",
          "name": "stdout",
          "text": [
            "['Leonel' 64 'Juliaca' 4980]\n"
          ]
        }
      ]
    },
    {
      "cell_type": "code",
      "source": [
        "#numero de personas que trabajan por ciudades\n",
        "personas_ciudades=datos.groupby(\"ciudad\")[\"nombre\"].count()\n",
        "print(personas_ciudades)"
      ],
      "metadata": {
        "colab": {
          "base_uri": "https://localhost:8080/"
        },
        "id": "qu-nhmRs44KH",
        "outputId": "0a778b3b-b8f7-4477-f223-9c1c8e093755"
      },
      "execution_count": 48,
      "outputs": [
        {
          "output_type": "stream",
          "name": "stdout",
          "text": [
            "ciudad\n",
            "Arequipa    5\n",
            "Cusco       4\n",
            "Juliaca     2\n",
            "Lima        6\n",
            "Puno        1\n",
            "Trujillo    5\n",
            "Name: nombre, dtype: int64\n"
          ]
        }
      ]
    },
    {
      "cell_type": "code",
      "source": [
        "#listado de personas de mayor a menor\n",
        "personas_ciudad_ordenadas = personas_ciudad.sort_values(\"edad\")\n",
        "\n",
        "print(datos_ordenados)"
      ],
      "metadata": {
        "colab": {
          "base_uri": "https://localhost:8080/"
        },
        "id": "u5GrsT0k6SKh",
        "outputId": "6e86972e-7fae-46ca-e668-823216bf639a"
      },
      "execution_count": 55,
      "outputs": [
        {
          "output_type": "stream",
          "name": "stdout",
          "text": [
            "       nombre  edad    ciudad  ingresos\n",
            "11    Micaela    21   Juliaca      5000\n",
            "3         Ana    22  Trujillo      2000\n",
            "20      Lucía    23  Trujillo      1500\n",
            "12      Diego    24     Cusco      3200\n",
            "7      Carlos    25     Cusco      1800\n",
            "13  Valentina    26  Trujillo      3500\n",
            "9      Andrés    27      Lima      2600\n",
            "1       María    28  Arequipa      3800\n",
            "4       Pedro    28  Arequipa      3200\n",
            "18   Fernanda    28     Cusco      2100\n",
            "16    Daniela    29      Lima      2700\n",
            "8       Sofía    29  Trujillo      2900\n",
            "14     Lorena    30      Lima      3800\n",
            "0        Juan    30      Lima      2500\n",
            "6       Laura    31      Lima      4200\n",
            "17     Manuel    31  Trujillo      2700\n",
            "15     Javier    32  Arequipa      5000\n",
            "10   Gabriela    33  Arequipa      4000\n",
            "21       José    34  Arequipa      4200\n",
            "19    Ricardo    35      Lima      4400\n",
            "2        Luis    35     Cusco      4800\n",
            "22      Willy    55      Puno      1300\n",
            "5      Leonel    64   Juliaca      4980\n"
          ]
        }
      ]
    },
    {
      "cell_type": "markdown",
      "source": [
        "#Ejercicio 2 - Carga de archivo CSV Desde drive\n"
      ],
      "metadata": {
        "id": "4M1T6jJ1uhUG"
      }
    }
  ]
}