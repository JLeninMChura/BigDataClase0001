{
  "nbformat": 4,
  "nbformat_minor": 0,
  "metadata": {
    "colab": {
      "provenance": [],
      "authorship_tag": "ABX9TyPv5HxDnPeSIQfQYOaadWpK",
      "include_colab_link": true
    },
    "kernelspec": {
      "name": "python3",
      "display_name": "Python 3"
    },
    "language_info": {
      "name": "python"
    }
  },
  "cells": [
    {
      "cell_type": "markdown",
      "metadata": {
        "id": "view-in-github",
        "colab_type": "text"
      },
      "source": [
        "<a href=\"https://colab.research.google.com/github/JLeninMChura/BigDataClase0001/blob/main/Untitled0.ipynb\" target=\"_parent\"><img src=\"https://colab.research.google.com/assets/colab-badge.svg\" alt=\"Open In Colab\"/></a>"
      ]
    },
    {
      "cell_type": "markdown",
      "source": [
        "#Ejercicio 1 - Carga de un archivo CSV desde Drive"
      ],
      "metadata": {
        "id": "Iw3ay-BqtcUG"
      }
    },
    {
      "cell_type": "code",
      "source": [
        "import pandas as pd"
      ],
      "metadata": {
        "id": "C17aWASRrXgZ"
      },
      "execution_count": null,
      "outputs": []
    },
    {
      "cell_type": "code",
      "source": [
        "datos = pd.read_csv(\"https://docs.google.com/spreadsheets/d/e/2PACX-1vRAw21hrrSAlaHSVZ5gH8N8GjfYrgJM5HMPxpjhl63P-dDQa7o4I1NpV_vKGxjNrHizQ4YN1mE-Pj7W/pub?gid=1804714029&single=true&output=csv\")\n",
        "\n",
        "print(datos)"
      ],
      "metadata": {
        "colab": {
          "base_uri": "https://localhost:8080/"
        },
        "id": "bQCROgk6tyUu",
        "outputId": "901486f1-9a36-435f-d468-25906a7df51d"
      },
      "execution_count": null,
      "outputs": [
        {
          "output_type": "stream",
          "name": "stdout",
          "text": [
            "       nombre  edad    ciudad  ingresos\n",
            "0        Juan    30      Lima      2500\n",
            "1       María    28  Arequipa      3800\n",
            "2        Luis    35     Cusco      4800\n",
            "3         Ana    22  Trujillo      2000\n",
            "4       Pedro    28  Arequipa      3200\n",
            "5      Leonel    64   Juliaca      4980\n",
            "6       Laura    31      Lima      4200\n",
            "7      Carlos    25     Cusco      1800\n",
            "8       Sofía    29  Trujillo      2900\n",
            "9      Andrés    27      Lima      2600\n",
            "10   Gabriela    33  Arequipa      4000\n",
            "11    Micaela    21   Juliaca      5000\n",
            "12      Diego    24     Cusco      3200\n",
            "13  Valentina    26  Trujillo      3500\n",
            "14     Lorena    30      Lima      3800\n",
            "15     Javier    32  Arequipa      5000\n",
            "16    Daniela    29      Lima      2700\n",
            "17     Manuel    31  Trujillo      2700\n",
            "18   Fernanda    28     Cusco      2100\n",
            "19    Ricardo    35      Lima      4400\n",
            "20      Lucía    23  Trujillo      1500\n",
            "21       José    34  Arequipa      4200\n",
            "22      Willy    55      Puno      1300\n"
          ]
        }
      ]
    },
    {
      "cell_type": "code",
      "source": [
        "suma_ingresos = datos"
      ],
      "metadata": {
        "id": "zz6YrpdxwjDA"
      },
      "execution_count": null,
      "outputs": []
    },
    {
      "cell_type": "markdown",
      "source": [
        "#Ejercicio 2 - Carga de archivo CSV Desde drive\n"
      ],
      "metadata": {
        "id": "4M1T6jJ1uhUG"
      }
    },
    {
      "cell_type": "code",
      "source": [
        "data = pd.read_csv(\"https://docs.google.com/spreadsheets/d/e/2PACX-1vRqgSe0k4O9E2684cwFsEZqq8G03y-D47iaT4nZdTs5q5J-QcTdhgnKefJjf4oa6CfnjiBlthhYNQjq/pub?output=csv\")\n",
        "\n",
        "print(data)"
      ],
      "metadata": {
        "colab": {
          "base_uri": "https://localhost:8080/"
        },
        "id": "96CyFJhnultX",
        "outputId": "a7262872-7265-4232-d820-6a28132b9935"
      },
      "execution_count": null,
      "outputs": [
        {
          "output_type": "stream",
          "name": "stdout",
          "text": [
            "       nombre  edad     genero    ciudad  ingresos      educacion  \\\n",
            "0        Juan    28  Masculino      Lima      4500  Universitario   \n",
            "1       María    35   Femenino  Arequipa      3500     Secundaria   \n",
            "2        Luis    40  Masculino     Cusco      5200  Universitario   \n",
            "3         Ana    22   Femenino      Lima      2800  Universitario   \n",
            "4      Walter    19  Masculino   Juliaca      3100        Técnico   \n",
            "5       Pedro    30  Masculino  Arequipa      4000        Técnico   \n",
            "6       Laura    27   Femenino      Lima      3200     Secundaria   \n",
            "7      Carlos    29  Masculino     Cusco      4800  Universitario   \n",
            "8       Sofía    25   Femenino      Lima      3000  Universitario   \n",
            "9   Esmeralda    23   Femenino   Juliaca      3200  Universitario   \n",
            "10     Andrés    33  Masculino  Arequipa      4200  Universitario   \n",
            "11   Gabriela    31   Femenino      Lima      3800  Universitario   \n",
            "12      Diego    26  Masculino     Cusco      3600        Técnico   \n",
            "13    Ernesto    42  Masculino   Juliaca      4200        Técnico   \n",
            "\n",
            "    estado_civil  \n",
            "0        Soltero  \n",
            "1         Casado  \n",
            "2         Casado  \n",
            "3        Soltero  \n",
            "4        Soltero  \n",
            "5        Soltero  \n",
            "6         Casado  \n",
            "7   Comprometido  \n",
            "8        Soltero  \n",
            "9        Soltero  \n",
            "10        Casado  \n",
            "11    Divorciado  \n",
            "12  Comprometido  \n",
            "13        Casado  \n"
          ]
        }
      ]
    }
  ]
}